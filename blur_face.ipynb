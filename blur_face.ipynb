{
 "cells": [
  {
   "cell_type": "code",
   "execution_count": 1,
   "metadata": {},
   "outputs": [
    {
     "name": "stdout",
     "output_type": "stream",
     "text": [
      "crw-rw---- 1 root video 81, 0 May 12 07:45 /dev/video0\n"
     ]
    }
   ],
   "source": [
    "!ls -ltrh /dev/video*\n"
   ]
  },
  {
   "cell_type": "code",
   "execution_count": 2,
   "metadata": {},
   "outputs": [
    {
     "name": "stdout",
     "output_type": "stream",
     "text": [
      "4.1.1\n"
     ]
    }
   ],
   "source": [
    "from IPython.display import display\n",
    "from jetcam.utils import bgr8_to_jpeg\n",
    "from jetcam.usb_camera import USBCamera\n",
    "from jetcam.csi_camera import CSICamera\n",
    "import ipywidgets\n",
    "import numpy as np\n",
    "import cv2\n",
    "import os\n",
    "print(cv2.__version__)\n",
    "\n",
    "folder = \"dnn\"\n",
    "proto = os.path.sep.join([folder, \"deploy.prototxt\"])\n",
    "weight = os.path.sep.join([folder, \"res10_300x300_ssd_iter_140000.caffemodel\"])\n",
    "net = cv2.dnn.readNet(proto, weight)\n",
    "camera = USBCamera(width=640, height=360, capture_device=0)\n",
    "\n",
    "\n",
    "image_widget = ipywidgets.Image(format='jpeg')\n",
    "image_widget_blur = ipywidgets.Image(format='jpeg')\n",
    "\n",
    "camera.running = True\n"
   ]
  },
  {
   "cell_type": "code",
   "execution_count": 3,
   "metadata": {},
   "outputs": [
    {
     "data": {
      "application/vnd.jupyter.widget-view+json": {
       "model_id": "ed84247033bb43e19121d3faa6de4c03",
       "version_major": 2,
       "version_minor": 0
      },
      "text/plain": [
       "Image(value=b'', format='jpeg')"
      ]
     },
     "metadata": {},
     "output_type": "display_data"
    }
   ],
   "source": [
    "def update_image(change):\n",
    "    frame = change['new']\n",
    "    image_widget.value = bgr8_to_jpeg(frame)\n",
    "display(image_widget)\n",
    "\n",
    "camera.observe(update_image, names='value')"
   ]
  },
  {
   "cell_type": "code",
   "execution_count": 4,
   "metadata": {},
   "outputs": [
    {
     "data": {
      "application/vnd.jupyter.widget-view+json": {
       "model_id": "aa3936a77aa34696b3a33cda689cedc7",
       "version_major": 2,
       "version_minor": 0
      },
      "text/plain": [
       "Image(value=b'', format='jpeg')"
      ]
     },
     "metadata": {},
     "output_type": "display_data"
    }
   ],
   "source": [
    "def blur_face(image, factor=2):\n",
    "    (h, w) = image.shape[:2]\n",
    "    k_w = int(w / factor)\n",
    "    k_h = int(h / factor)\n",
    "    \n",
    "    if k_w % 2 == 0:\n",
    "        k_w -= 1\n",
    "    if k_h % 2 == 0:\n",
    "        k_h -= 1\n",
    "        \n",
    "    return cv2.GaussianBlur(image, (k_w, k_h), 0)\n",
    "\n",
    "def update_image_blur(change):\n",
    "    frame = change['new']\n",
    "    blob = cv2.dnn.blobFromImage(frame, 1.0, (300, 300))\n",
    "    net.setInput(blob)\n",
    "    detections = net.forward()\n",
    "    (h, w) = frame.shape[:2]\n",
    "    for i in range(0, detections.shape[2]):\n",
    "        confidence = detections[0, 0, i, 2]\n",
    "        if confidence > 0.5:\n",
    "            box = detections[0, 0, i, 3:7] * np.array([w, h, w, h])\n",
    "            (startX, startY, endX, endY) = box.astype(\"int\")\n",
    "            face = frame[startY:endY, startX:endX]\n",
    "            face = blur_face(face)\n",
    "            frame[startY:endY, startX:endX] = face\n",
    "    image_widget_blur.value = bgr8_to_jpeg(frame)\n",
    "display(image_widget_blur)\n",
    "camera.observe(update_image_blur, names='value')"
   ]
  },
  {
   "cell_type": "code",
   "execution_count": null,
   "metadata": {},
   "outputs": [],
   "source": []
  }
 ],
 "metadata": {
  "kernelspec": {
   "display_name": "Python 3",
   "language": "python",
   "name": "python3"
  },
  "language_info": {
   "codemirror_mode": {
    "name": "ipython",
    "version": 3
   },
   "file_extension": ".py",
   "mimetype": "text/x-python",
   "name": "python",
   "nbconvert_exporter": "python",
   "pygments_lexer": "ipython3",
   "version": "3.6.9"
  }
 },
 "nbformat": 4,
 "nbformat_minor": 4
}
